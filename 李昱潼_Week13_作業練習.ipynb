{
  "nbformat": 4,
  "nbformat_minor": 0,
  "metadata": {
    "kernelspec": {
      "display_name": "Python 3",
      "language": "python",
      "name": "python3"
    },
    "language_info": {
      "codemirror_mode": {
        "name": "ipython",
        "version": 3
      },
      "file_extension": ".py",
      "mimetype": "text/x-python",
      "name": "python",
      "nbconvert_exporter": "python",
      "pygments_lexer": "ipython3",
      "version": "3.8.5"
    },
    "colab": {
      "name": "李昱潼-Week13-作業練習.ipynb",
      "provenance": [],
      "include_colab_link": true
    }
  },
  "cells": [
    {
      "cell_type": "markdown",
      "metadata": {
        "id": "view-in-github",
        "colab_type": "text"
      },
      "source": [
        "<a href=\"https://colab.research.google.com/github/A109010163/computation-thinking-and-program-design/blob/main/%E6%9D%8E%E6%98%B1%E6%BD%BC_Week13_%E4%BD%9C%E6%A5%AD%E7%B7%B4%E7%BF%92.ipynb\" target=\"_parent\"><img src=\"https://colab.research.google.com/assets/colab-badge.svg\" alt=\"Open In Colab\"/></a>"
      ]
    },
    {
      "cell_type": "markdown",
      "metadata": {
        "id": "nwcJKyJDosT9"
      },
      "source": [
        "#### 隨堂練習1: 滿2000 打九折\n",
        "\n",
        "**請寫一個程式幫助店家計算顧客所需付出的金額。**\n",
        "\n",
        "採買物品時，有時會遇到店家為了刺激消費，會使用滿額折扣。例如，滿2000 打九折，未滿2000 則不打折。"
      ]
    },
    {
      "cell_type": "code",
      "metadata": {
        "colab": {
          "base_uri": "https://localhost:8080/"
        },
        "id": "1TU1rKoJosT9",
        "outputId": "0837b862-71ab-4f55-d833-12cca7d00798"
      },
      "source": [
        "price=int(input(\"物品價格:\"))\n",
        "if price>=2000:\n",
        "  final_price=price*0.9\n",
        "  print(f\"價格為{final_price}元\")\n",
        "else:\n",
        "    print(f\"價格為{price}元\")"
      ],
      "execution_count": 1,
      "outputs": [
        {
          "output_type": "stream",
          "text": [
            "物品價格:2500\n",
            "價格為2250.0元\n"
          ],
          "name": "stdout"
        }
      ]
    },
    {
      "cell_type": "markdown",
      "metadata": {
        "id": "4Hi_KAmwosT-"
      },
      "source": [
        "#### 隨堂練習2: 判斷奇偶數\n",
        "\n",
        "請寫一個程式判斷輸入的值是奇數還是偶數。"
      ]
    },
    {
      "cell_type": "code",
      "metadata": {
        "colab": {
          "base_uri": "https://localhost:8080/"
        },
        "id": "xRgZPwziosT-",
        "outputId": "0b1c214c-0cbd-481d-98b8-44ff1e3ce473"
      },
      "source": [
        "num = int(input('Enter a number'))\n",
        "if num%2==1:\n",
        "    print('奇數')\n",
        "else:\n",
        "    print('偶數')"
      ],
      "execution_count": 2,
      "outputs": [
        {
          "output_type": "stream",
          "text": [
            "Enter a number35\n",
            "奇數\n"
          ],
          "name": "stdout"
        }
      ]
    },
    {
      "cell_type": "markdown",
      "metadata": {
        "id": "1ZBfXvWBosT-"
      },
      "source": [
        "#### 練習7. Think Like a Computer Scientist\n",
        "\n",
        "如果輸入的num為20, 9, 5,和0，請用你的邏輯直接告訴我，下面兩組程式結果與差異:\n",
        "    \n",
        "```{pYTHON}\n",
        "## 方法（一）：if 敘述\n",
        "num = int(input(\"Enter a number: \"))\n",
        "if num < 6:\n",
        "    print(\"num is less than 6\")\n",
        "if num < 10:\n",
        "    print(\"num is less than 10\")\n",
        "if num > 3:\n",
        "    print(\"num is greater than 3\")\n",
        "print(\"Finished.\")\n",
        "\n",
        "## 方法（二）：if-elif-else敘述\n",
        "num = input(\"Pick a number! \")\n",
        "num = int(num)\n",
        "if num < 6:\n",
        "    print(\"number is less than 6.\")\n",
        "elif num < 10:\n",
        "    print(\"number is less than 10.\")\n",
        "elif num > 3:\n",
        "    print(\"number is greater than 3.\")\n",
        "else:\n",
        "    print(\"No relation is found.\")\n",
        "print(\"Finished.\")\n",
        "\n",
        "```"
      ]
    },
    {
      "cell_type": "code",
      "metadata": {
        "colab": {
          "base_uri": "https://localhost:8080/"
        },
        "id": "N06HrFQiosT_",
        "outputId": "ba5e0a30-250d-423c-854f-deafab09bd67"
      },
      "source": [
        "a=5\n",
        "b=8\n",
        "\n",
        "if a>b :\n",
        "    print(\"a is larger than b\")\n",
        "elif a == b :\n",
        "        print(\"a is equal to b\")\n",
        "else: \n",
        "       print(\"a is less than b\")"
      ],
      "execution_count": 9,
      "outputs": [
        {
          "output_type": "stream",
          "text": [
            "a is less than b\n"
          ],
          "name": "stdout"
        }
      ]
    },
    {
      "cell_type": "markdown",
      "metadata": {
        "id": "AyHKI4qqosT_"
      },
      "source": [
        "#### 練習2. 時尚偵測師\n",
        "\n",
        "時尚達人Cher 和 Dionne要參加一個華麗的派對。他們想確保他們的穿搭與眾不同，但有也想保留一點共同的地方，比如兩人都喜歡粉紅色。讓我們寫一些程式，確保兩人的穿搭都個性十足！\n",
        "\n",
        "～首先，請用變數賦值的方式決定兩位的穿著\n",
        "\n",
        "```{Python}\n",
        "## 例如下面的穿著建議，請同學自行修改\n",
        "cher_dress_color = \"pink\"\n",
        "cher_shoe_color = \"white\"\n",
        "cher_has_earrings = True\n",
        "dionne_dress_color = \"purple\"\n",
        "dionne_shoe_color = \"pink\"\n",
        "dionne_has_earrings = True\n",
        "```\n",
        "\n",
        "～其次，請同學用真假值做時尚偵測，檢查一下兩位時尚達人的穿搭是否符合下面的要點:\n",
        "\n",
        "1. 至少有一人穿紫色 At least one person is wearing purple? \n",
        "2. 兩人穿不同顏色的衣服Cher and Dionne have different dress colors.\n",
        "3. 兩人都戴耳環Cher and Dionne are both earing earrings.\n",
        "4. 至少有一人穿粉紅色 At least one person is wearing pink.\n",
        "5. 沒人穿綠色。 No one is wearing green.\n",
        "6. 兩人穿同顏色的鞋子 Cher and Dionne have the same shoe color.\n",
        "\n",
        "```{PYTHON}\n",
        "## 例如\n",
        "print(f'At least one person is wearing pink? {cher_dress_color == \"pink\" or dionne_dress_color == \"pink\"}')\n",
        "\n",
        ".......請同學自行撰寫判斷程式\n",
        "```\n"
      ]
    },
    {
      "cell_type": "code",
      "metadata": {
        "colab": {
          "base_uri": "https://localhost:8080/"
        },
        "id": "Ss3FImGAosUA",
        "outputId": "d9e2920a-ced5-4803-e6a3-f286f8f717ab"
      },
      "source": [
        "c_dress_color = \"pink\"\n",
        "c_shoe_color = \"black\"\n",
        "c_has_earrings = True\n",
        "d_dress_color = \"purple\"\n",
        "d_shoe_color = \"black\"\n",
        "d_has_earrings = False\n",
        "if c_dress_color!=\"purple\" and d_dress_color!=\"purple\":\n",
        "  print(\"Q1.At least one person is wearing purple? :No\")\n",
        "else:\n",
        "  print(\"Q1.At least one person is wearing purple? :Yes\")\n",
        "if c_dress_color==d_dress_color:\n",
        "  print(\"Q2.Do Cher and Dionne have different dress colors? :No\")\n",
        "else:\n",
        "  print(\"Q2.Do Cher and Dionne have different dress colors? :Yes\")\n",
        "if c_has_earrings==True and d_has_earrings==True:\n",
        "  print(\"Q3.Cher and Dionne are both earing earrings? :Yes\")\n",
        "else:\n",
        "  print(\"Q3.Cher and Dionne are both earing earrings.:No\")\n",
        "if c_dress_color!=\"pink\" and d_dress_color!=\"pink\":\n",
        "  print(\"Q4.At least one person is wearing pink? :No\")\n",
        "else:\n",
        "  print(\"Q4.At least one person is wearing pink? :Yes\")\n",
        "if c_dress_color!=\"green\" and d_dress_color!=\"green\":\n",
        "  print(\"Q5.No one is wearing green? :Yes\")\n",
        "else:\n",
        "  print(\"Q5.No one is wearing green? :No\")\n",
        "if c_shoe_color==d_shoe_color:\n",
        "  print(\"Q6.Cher and Dionne have the same shoe color? :Yes\")\n",
        "else:\n",
        "  print(\"Q6.Cher and Dionne have the same shoe color? :No\")"
      ],
      "execution_count": 7,
      "outputs": [
        {
          "output_type": "stream",
          "text": [
            "Q1.At least one person is wearing purple? :Yes\n",
            "Q2.Do Cher and Dionne have different dress colors? :Yes\n",
            "Q3.Cher and Dionne are both earing earrings.:No\n",
            "Q4.At least one person is wearing pink? :Yes\n",
            "Q5.No one is wearing green? :Yes\n",
            "Q6.Cher and Dionne have the same shoe color? :Yes\n"
          ],
          "name": "stdout"
        }
      ]
    }
  ]
}