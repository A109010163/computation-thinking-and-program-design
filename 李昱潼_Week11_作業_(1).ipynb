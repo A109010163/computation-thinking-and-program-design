{
  "nbformat": 4,
  "nbformat_minor": 0,
  "metadata": {
    "kernelspec": {
      "display_name": "Python 3",
      "language": "python",
      "name": "python3"
    },
    "language_info": {
      "codemirror_mode": {
        "name": "ipython",
        "version": 3
      },
      "file_extension": ".py",
      "mimetype": "text/x-python",
      "name": "python",
      "nbconvert_exporter": "python",
      "pygments_lexer": "ipython3",
      "version": "3.8.5"
    },
    "colab": {
      "name": "李昱潼-Week11-作業 (1).ipynb",
      "provenance": [],
      "include_colab_link": true
    }
  },
  "cells": [
    {
      "cell_type": "markdown",
      "metadata": {
        "id": "view-in-github",
        "colab_type": "text"
      },
      "source": [
        "<a href=\"https://colab.research.google.com/github/A109010163/computation-thinking-and-program-design/blob/main/%E6%9D%8E%E6%98%B1%E6%BD%BC_Week11_%E4%BD%9C%E6%A5%AD_(1).ipynb\" target=\"_parent\"><img src=\"https://colab.research.google.com/assets/colab-badge.svg\" alt=\"Open In Colab\"/></a>"
      ]
    },
    {
      "cell_type": "markdown",
      "metadata": {
        "id": "L03JoU8SzQVO"
      },
      "source": [
        "# 基本程式設計(應用篇)"
      ]
    },
    {
      "cell_type": "markdown",
      "metadata": {
        "id": "5ofkVmIJzQVW"
      },
      "source": [
        "### 4-2 運算思維四個基石"
      ]
    },
    {
      "cell_type": "markdown",
      "metadata": {
        "id": "S9SsAOX1zQVW"
      },
      "source": [
        "#### 4-2-4  問題拆解 - 打造你的聊天機器人"
      ]
    },
    {
      "cell_type": "markdown",
      "metadata": {
        "id": "5k8LieZazQVX"
      },
      "source": [
        "「哈囉，大家好。我叫Zyxo64，是一個聊天機器人。\n",
        "\n",
        "在嗜好與興趣方面，我很喜歡美食，也喜歡養動物。\n",
        "\n",
        "很高興有機會來到世新大學，請大家多多指教。\n",
        "\n",
        "嗨！妳好，請問大名？：Francis。\n",
        "\n",
        "Francis，很高興認識你。"
      ]
    },
    {
      "cell_type": "code",
      "metadata": {
        "colab": {
          "base_uri": "https://localhost:8080/"
        },
        "id": "dEcMYPdEzQVX",
        "outputId": "56cdac22-9c12-4e78-8233-8fc13e8ce188"
      },
      "source": [
        "# 1.聊天機器人自我介紹\n",
        "print(\"哈囉，大家好。我叫Zyxo64，是一個聊天機器人。\")\n",
        "print(\"在嗜好與興趣方面，我很喜歡美食，也喜歡養動物。\")\n",
        "print(\"很高興有機會來到世新大學，請大家多多指教。\")\n",
        "# 2. 打招呼，取得對方名字\n",
        "name=input(\"enter your name:\")\n",
        "print(\"嗨！妳好，請問大名？\",name)"
      ],
      "execution_count": 8,
      "outputs": [
        {
          "output_type": "stream",
          "text": [
            "哈囉，大家好。我叫Zyxo64，是一個聊天機器人。\n",
            "在嗜好與興趣方面，我很喜歡美食，也喜歡養動物。\n",
            "很高興有機會來到世新大學，請大家多多指教。\n",
            "enter your name:Terena\n",
            "嗨！妳好，請問大名？ Terena\n"
          ],
          "name": "stdout"
        }
      ]
    },
    {
      "cell_type": "markdown",
      "metadata": {
        "id": "1nyfSevSzQVY"
      },
      "source": [
        "抱歉，請問一下今年是西元2021年，那是民國幾年呢？：*110*。\n",
        "\n",
        "對！沒錯，謝謝妳！\n",
        "\n",
        "**Francis**，猜猜看我今年幾歲？ ：**18**。\n",
        "\n",
        "哇！你好聰明，我今年的確*18*。\n",
        "\n",
        "再82年我就100歲了。\n",
        "\n",
        "那時候是西元 2103年，也就是民國192年囉！"
      ]
    },
    {
      "cell_type": "code",
      "metadata": {
        "colab": {
          "base_uri": "https://localhost:8080/"
        },
        "id": "-L0mKnvZzQVY",
        "outputId": "1228203f-d2ff-4a62-e704-8588a2a18a94"
      },
      "source": [
        "# 3. 數學運算\n",
        "## 3-1 從使用者取得今年年份\n",
        "\n",
        "print(\"請問一下今年是西元2021,那是民國幾年?\")\n",
        "year=input(\"enter the number\")\n",
        "print(\"對!應該沒錯,謝謝你!\")\n",
        "## 3-2 請使用者猜年齡\n",
        "myage=int(input(\"Francis,猜猜看我今年幾歲?\"))\n",
        "print(\"哇!你好聰明,我今年的確\",myage)\n",
        "## 3-3 計算聊天機器人滿100歲的年份\n",
        "nyears=100-myage\n",
        "print(\"我再\",nyears,\"年就滿100歲。\")\n",
        "print(\"到時候是西元\",int(year)+nyears+1911,\"年\")\n",
        "(print(\"也就是民國\",int(year)+nyears,\"年\"))"
      ],
      "execution_count": 20,
      "outputs": [
        {
          "output_type": "stream",
          "text": [
            "請問一下今年是西元2021,那是民國幾年?\n",
            "enter the number110\n",
            "對!應該沒錯,謝謝你!\n",
            "Francis,猜猜看我今年幾歲?20\n",
            "哇!你好聰明,我今年的確 20\n",
            "我再 80 年就滿100歲。\n",
            "到時候是西元 2101 年\n",
            "也就是民國 190 年\n"
          ],
          "name": "stdout"
        }
      ]
    },
    {
      "cell_type": "markdown",
      "metadata": {
        "id": "AVQXgRt-zQVZ"
      },
      "source": [
        "我喜歡吃巧克力，也喜歡嘗試各種新食物。\n",
        "\n",
        "你呢？你最喜歡的食物是什麼？**:披薩**。\n",
        "\n",
        "我也喜歡 *披薩*。\n",
        "\n",
        "你多久吃一次 *披薩*？**：每天**。\n",
        "\n",
        "真有趣。不知道這樣對健康好不好。"
      ]
    },
    {
      "cell_type": "code",
      "metadata": {
        "colab": {
          "base_uri": "https://localhost:8080/"
        },
        "id": "my6X_d09zQVZ",
        "outputId": "f82780ec-648b-4349-c742-7aa485c455a4"
      },
      "source": [
        "# 4 興趣\n",
        "## 4-1 食物話題print(\"我喜歡吃炸雞,也喜歡嘗試各種新食物。\")\n",
        "## 4-1 食物話題\n",
        "food = input(\"Enter the food:\")\n",
        "print(\"你呢？你最喜歡的食物是什麼？:\",food)\n",
        "print(\"我也喜歡\",food)\n",
        "time = input(\"Enter the time\")\n",
        "print(\"你多久吃一次 炸雞？:\"+ time)\n",
        "print(\"真有趣。不知道這樣對健康好不好。\")"
      ],
      "execution_count": 24,
      "outputs": [
        {
          "output_type": "stream",
          "text": [
            "Enter the food:鹹蛋黃\n",
            "你呢？你最喜歡的食物是什麼？: 鹹蛋黃\n",
            "我也喜歡 鹹蛋黃\n",
            "Enter the timetwo weeks\n",
            "你多久吃一次 炸雞？:two weeks\n",
            "真有趣。不知道這樣對健康好不好。\n"
          ],
          "name": "stdout"
        }
      ]
    },
    {
      "cell_type": "markdown",
      "metadata": {
        "id": "ErUXOgBHzQVa"
      },
      "source": [
        "我最喜歡的動物是長頸鹿。你呢？ **：烏龜**。\n",
        "\n",
        "我不喜歡*烏龜*！\n",
        "\n",
        "不知道 *烏龜* 喜不喜歡吃 *披薩*？"
      ]
    },
    {
      "cell_type": "code",
      "metadata": {
        "colab": {
          "base_uri": "https://localhost:8080/"
        },
        "id": "RQRrK8t0zQVa",
        "outputId": "9c52b121-f2ca-44ca-8c8b-a280fb36e601"
      },
      "source": [
        "# 4 興趣\n",
        "## 4-2 動物話題\n",
        "animals=input(\"enter the animals:\")\n",
        "print(\"我最喜歡的動物是長頸鹿。你呢?:\",animals)\n",
        "print(\"我不喜歡\",animals)\n",
        "food=input(\"enter the food:\")\n",
        "print(\"不知道\"+animals+\"喜不喜歡吃\",food+\"?\")"
      ],
      "execution_count": 25,
      "outputs": [
        {
          "output_type": "stream",
          "text": [
            "enter the animals:企鵝\n",
            "我最喜歡的動物是長頸鹿。你呢?: 企鵝\n",
            "我不喜歡 企鵝\n",
            "enter the food:雞蛋仔\n",
            "不知道企鵝喜不喜歡吃 雞蛋仔?\n"
          ],
          "name": "stdout"
        }
      ]
    },
    {
      "cell_type": "markdown",
      "metadata": {
        "id": "WzmdLzlOzQVa"
      },
      "source": [
        "你今天的心情如何？ **：很開心**。\n",
        "\n",
        "可以告訴我你 *開心* 的原因嗎？**因為週末了！** \n",
        "\n",
        "祝你週末愉快！\n",
        "\n",
        "我喜歡跟你聊天，現在有點累了，改天再聊吧！！\n",
        "\n",
        "再見 *Francis*！"
      ]
    },
    {
      "cell_type": "code",
      "metadata": {
        "colab": {
          "base_uri": "https://localhost:8080/"
        },
        "id": "VlQauiBSzQVb",
        "outputId": "5e2402f2-97b9-461c-ae80-df9cfbbd3e8d"
      },
      "source": [
        "# 5. 關於心情的對話\n",
        "mood = input(\"Enter The Mood:\")\n",
        "print(\"你今天的心情如何？ ：\", mood)\n",
        "reason = input(\"Enter The Reason:\")\n",
        "print(\"可以告訴我你 開心 的原因嗎？\"+reason)\n",
        "print(\"祝你週末愉快\")\n",
        "print(\"我喜歡跟你聊天，現在有點累了，改天再聊吧！！\")\n",
        "name = input(\"Enter The Name:\")\n",
        "print(\"再見\",name+\"!\")"
      ],
      "execution_count": 28,
      "outputs": [
        {
          "output_type": "stream",
          "text": [
            "Enter The Mood:great\n",
            "你今天的心情如何？ ： great\n",
            "Enter The Reason:becuse the weekend is coming\n",
            "可以告訴我你 開心 的原因嗎？becuse the weekend is coming\n",
            "祝你週末愉快\n",
            "我喜歡跟你聊天，現在有點累了，改天再聊吧！！\n",
            "Enter The Name:Terena\n",
            "再見 Terena!\n"
          ],
          "name": "stdout"
        }
      ]
    },
    {
      "cell_type": "markdown",
      "metadata": {
        "id": "kPPKbCSlzQVb"
      },
      "source": [
        "我喜歡跟你聊天，現在有點累了，改天再聊吧！！\n",
        "\n",
        "再見 *Francis*！"
      ]
    },
    {
      "cell_type": "code",
      "metadata": {
        "colab": {
          "base_uri": "https://localhost:8080/"
        },
        "id": "3xihG4A5zQVb",
        "outputId": "19f0be9b-434a-4da8-b220-1111aa555499"
      },
      "source": [
        "# 6. 道別\n",
        "print(\"我喜歡跟你聊天，現在有點累了，改天再聊吧！！\")\n",
        "name = input(\"Enter The Name:\")\n",
        "print(\"再見\",name,\"!\")"
      ],
      "execution_count": 27,
      "outputs": [
        {
          "output_type": "stream",
          "text": [
            "我喜歡跟你聊天，現在有點累了，改天再聊吧！！\n",
            "Enter The Name:Terena\n",
            "再見 Terena !\n"
          ],
          "name": "stdout"
        }
      ]
    },
    {
      "cell_type": "markdown",
      "metadata": {
        "id": "U8z0wvAWzQVb"
      },
      "source": [
        "## 期末報告"
      ]
    },
    {
      "cell_type": "markdown",
      "metadata": {
        "id": "7esrglVQzQVc"
      },
      "source": [
        "### 組長(學號姓名):\n",
        "\n"
      ]
    },
    {
      "cell_type": "markdown",
      "metadata": {
        "id": "I9UYE4CkzQVc"
      },
      "source": [
        "### 組員(學號姓名):\n",
        "\n"
      ]
    },
    {
      "cell_type": "markdown",
      "metadata": {
        "id": "sd0dxwBUzQVc"
      },
      "source": [
        "### 題目:"
      ]
    },
    {
      "cell_type": "markdown",
      "metadata": {
        "id": "jv_4bi98zQVc"
      },
      "source": [
        "### 百字腳本\n",
        "\n"
      ]
    }
  ]
}