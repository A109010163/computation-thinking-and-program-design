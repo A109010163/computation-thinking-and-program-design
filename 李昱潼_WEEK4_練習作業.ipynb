{
  "nbformat": 4,
  "nbformat_minor": 0,
  "metadata": {
    "colab": {
      "name": "李昱潼-WEEK4-練習作業.ipynb",
      "provenance": [],
      "authorship_tag": "ABX9TyM91fm5chXw5qs4LdnoW7Cz",
      "include_colab_link": true
    },
    "kernelspec": {
      "name": "python3",
      "display_name": "Python 3"
    }
  },
  "cells": [
    {
      "cell_type": "markdown",
      "metadata": {
        "id": "view-in-github",
        "colab_type": "text"
      },
      "source": [
        "<a href=\"https://colab.research.google.com/github/A109010163/computation-thinking-and-program-design/blob/main/%E6%9D%8E%E6%98%B1%E6%BD%BC_WEEK4_%E7%B7%B4%E7%BF%92%E4%BD%9C%E6%A5%AD.ipynb\" target=\"_parent\"><img src=\"https://colab.research.google.com/assets/colab-badge.svg\" alt=\"Open In Colab\"/></a>"
      ]
    },
    {
      "cell_type": "markdown",
      "metadata": {
        "id": "tUx4HMbEWEJg"
      },
      "source": [
        "#隨堂練習\r\n"
      ]
    },
    {
      "cell_type": "markdown",
      "metadata": {
        "id": "NQDXFrmfXn3A"
      },
      "source": [
        "#課後練習\r\n"
      ]
    },
    {
      "cell_type": "markdown",
      "metadata": {
        "id": "BtVCfhC2WlWH"
      },
      "source": [
        "Week 4: 用電腦解決問題\r\n",
        "認識電腦\r\n",
        "程式設計\r\n",
        "運算思維\r\n",
        "用電腦解決問題的步驟\r\n",
        "練習作業：(1)隨堂練習為各單元重點摘要，(2)課後練習則為從一則新聞報導，提出你對新聞系（OO系）學生為什麼要學「運算思維與程式設計」的見解。（告訴我新聞連結，以及你的觀點即可。）\r\n"
      ]
    },
    {
      "cell_type": "markdown",
      "metadata": {
        "id": "VcHuzb3GdChK"
      },
      "source": [
        "#新聞連結"
      ]
    },
    {
      "cell_type": "markdown",
      "metadata": {
        "id": "oBC4Ct8Ec-0R"
      },
      "source": [
        "https://www.chinatimes.com/realtimenews/20171030004657-260405?chdtv"
      ]
    },
    {
      "cell_type": "markdown",
      "metadata": {
        "id": "gQF718lndLVb"
      },
      "source": [
        "#個人觀點"
      ]
    },
    {
      "cell_type": "markdown",
      "metadata": {
        "id": "OABeeg2BZltI"
      },
      "source": [
        "運算思維顧名思義就是用電腦的邏輯來解決問題的思維，從市場的需求量，在現在Z世代中預測許多現在的工作未來會消失，需要電腦軟體工作的需求也只有更多肯定不會消失。在台灣現階段的教育也逐漸重視程式設計教育，在中小學的必修課程也都教育，在中小學的必修課程也都包含在內，寫程式不僅可以訓練學生的思考能力也可以讓學生慢慢學習解決問題，在寫完程式的當下也可以立即展現成果。因此我認為在這網路時代新聞系學生有必要了解運算思維與程式設計這門課，將來在學校或社會中都能運用到的能力。"
      ]
    }
  ]
}