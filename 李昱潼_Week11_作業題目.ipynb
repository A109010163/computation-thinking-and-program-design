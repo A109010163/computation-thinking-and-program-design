{
  "nbformat": 4,
  "nbformat_minor": 0,
  "metadata": {
    "kernelspec": {
      "display_name": "Python 3",
      "language": "python",
      "name": "python3"
    },
    "language_info": {
      "codemirror_mode": {
        "name": "ipython",
        "version": 3
      },
      "file_extension": ".py",
      "mimetype": "text/x-python",
      "name": "python",
      "nbconvert_exporter": "python",
      "pygments_lexer": "ipython3",
      "version": "3.8.5"
    },
    "colab": {
      "name": "李昱潼 - Week11 -作業題目.ipynb",
      "provenance": [],
      "include_colab_link": true
    }
  },
  "cells": [
    {
      "cell_type": "markdown",
      "metadata": {
        "id": "view-in-github",
        "colab_type": "text"
      },
      "source": [
        "<a href=\"https://colab.research.google.com/github/A109010163/computation-thinking-and-program-design/blob/main/%E6%9D%8E%E6%98%B1%E6%BD%BC_Week11_%E4%BD%9C%E6%A5%AD%E9%A1%8C%E7%9B%AE.ipynb\" target=\"_parent\"><img src=\"https://colab.research.google.com/assets/colab-badge.svg\" alt=\"Open In Colab\"/></a>"
      ]
    },
    {
      "cell_type": "markdown",
      "metadata": {
        "id": "fL2pmNXE0jZY"
      },
      "source": [
        "**隨堂練習 1：請輸入身分證字號，並判斷尾數是否為奇數?** "
      ]
    },
    {
      "cell_type": "code",
      "metadata": {
        "colab": {
          "base_uri": "https://localhost:8080/"
        },
        "id": "eCjaPQgP0jZa",
        "outputId": "3ca2aef8-2a65-4df3-8fc1-b1381c2db9a7"
      },
      "source": [
        "id_last_digit = input(\"請輸入您身分證字號的尾數:\")\n",
        "ans = int(id_last_digit) % 2 == 1\n",
        "print(\"身分證尾數除以2的餘數是否為1:\",ans)"
      ],
      "execution_count": 2,
      "outputs": [
        {
          "output_type": "stream",
          "text": [
            "請輸入您身分證字號的尾數:2\n",
            "身分證尾數除以2的餘數是否為1: False\n"
          ],
          "name": "stdout"
        }
      ]
    },
    {
      "cell_type": "markdown",
      "metadata": {
        "id": "r_BqmS4-0jZb"
      },
      "source": [
        "**回家作業**\n",
        "\n",
        "組長: 王慶禾\n",
        "    \n",
        "組員:李昱潼 胡玟慧 林維儀    \n",
        "期末報告題目: \n",
        "\n",
        "\n",
        "百字腳本初稿:在這個網路時代，網際網路充斥在你我的生活裡，如果在上網的過程中，不理解流行用語的用法，可能會導致與人溝通的過程出現問題，錯失交朋友的機會，也可能使人與人之間產生誤會，為了避免此情況發生，製作\"網路流行用語大解析\"程式，來幫助各年齡層的人融入網路世界!!!\n",
        "\n",
        "\n",
        "\n",
        "(Note: **用電腦解決問題，你要解決的問題就是你的題目；解決問題的方法是什麼，請設計用對話方式讓我們知道答案。**\n",
        "\n",
        "在日常生活中，所有與客服有關的事情，都可以自動化改用對話機器人處理。例如:你去銀行櫃台詢問存錢事宜，你去系辦詢問選課事宜，你去餐廳詢問點餐事宜等等。這些例子都是針對一個問題，透過你和客服互動對話後解決。將與這些真人的客服對話自動化後，就變成對話機器人。對話機器人是目前全世界最熱門的商業互動模式，也是未來世界的趨勢。)\n"
      ]
    }
  ]
}